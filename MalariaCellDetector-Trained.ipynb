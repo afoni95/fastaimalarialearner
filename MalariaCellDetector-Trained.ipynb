{
  "nbformat": 4,
  "nbformat_minor": 0,
  "metadata": {
    "colab": {
      "name": "MalariaCellDetector.ipynb",
      "version": "0.3.2",
      "provenance": [],
      "collapsed_sections": []
    },
    "kernelspec": {
      "name": "python3",
      "display_name": "Python 3"
    }
  },
  "cells": [
    {
      "cell_type": "code",
      "metadata": {
        "id": "H-LpRAo8a1Bf",
        "colab_type": "code",
        "colab": {
          "base_uri": "https://localhost:8080/",
          "height": 36
        },
        "outputId": "0d8f7560-a7aa-4460-8ad9-5347143cc2af"
      },
      "source": [
        "!git clone https://github.com/afoni95/fastaimalarialearner.git\n",
        "!pip install git+https://github.com/fastai/fastai.git\n",
        "!pip install git+https://github.com/fastai/fastai.git\n",
        "!pip install --upgrade fastai torch==1.0.0"
      ],
      "execution_count": 1,
      "outputs": [
        {
          "output_type": "stream",
          "text": [
            "Successfully installed torch-1.0.0\n"
          ],
          "name": "stdout"
        }
      ]
    },
    {
      "cell_type": "code",
      "metadata": {
        "id": "lUr8ioCrcibX",
        "colab_type": "code",
        "colab": {}
      },
      "source": [
        "from fastai.vision import *\n",
        "from fastai.imports import *\n",
        "from sklearn.utils import shuffle\n",
        "import imageio\n",
        "from fastai import basic_train"
      ],
      "execution_count": 0,
      "outputs": []
    },
    {
      "cell_type": "code",
      "metadata": {
        "id": "IS4lnlvpciU7",
        "colab_type": "code",
        "colab": {}
      },
      "source": [
        "learner = basic_train.load_learner('fastaimalarialearner','fastai-malaria.pkl')"
      ],
      "execution_count": 0,
      "outputs": []
    },
    {
      "cell_type": "code",
      "metadata": {
        "id": "TOQKjYS-ciLz",
        "colab_type": "code",
        "colab": {
          "base_uri": "https://localhost:8080/",
          "height": 36
        },
        "outputId": "14ae16f8-e9e1-4efa-c905-e08bb1950eac"
      },
      "source": [
        "#img = open_image('fastaimalarialearner/Uninfected_10.png')\n",
        "img = open_image('fastaimalarialearner/Parasitized_10.png')\n",
        "a, b, c = learner.predict(img)\n",
        "percentage = \"%.2f\" % (float(c[b])*100)\n",
        "\n",
        "print(\"Predicted \" + str(a) + \" with \"+str(percentage) + \"%\")"
      ],
      "execution_count": 30,
      "outputs": [
        {
          "output_type": "stream",
          "text": [
            "Predicted Parasitized with 98.16%\n"
          ],
          "name": "stdout"
        }
      ]
    }
  ]
}